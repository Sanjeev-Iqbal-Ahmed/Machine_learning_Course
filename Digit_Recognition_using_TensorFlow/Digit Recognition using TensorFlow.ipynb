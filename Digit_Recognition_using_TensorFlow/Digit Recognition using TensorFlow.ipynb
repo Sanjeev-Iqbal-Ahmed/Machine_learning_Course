{
 "cells": [
  {
   "cell_type": "code",
   "execution_count": 5,
   "id": "e9c67cb6",
   "metadata": {},
   "outputs": [],
   "source": [
    "import tensorflow as tf\n",
    "import numpy as np"
   ]
  },
  {
   "cell_type": "code",
   "execution_count": 6,
   "id": "01a221d5",
   "metadata": {
    "scrolled": true
   },
   "outputs": [],
   "source": [
    "# Load the MNIST dataset (handwritten digits 0–9)\n",
    "# The dataset is split into training and test sets\n",
    "mnist=tf.keras.datasets.mnist # Built-in dataset in TensorFlow\n"
   ]
  },
  {
   "cell_type": "code",
   "execution_count": 20,
   "id": "f69301c5",
   "metadata": {},
   "outputs": [],
   "source": [
    "# training_data: 60,000 images (28x28 pixels)\n",
    "# test_data: 10,000 images for testing\n",
    "(training_data, training_labels), (test_data, test_labels) = mnist.load_data()\n",
    "training_data, test_data = training_data / 255, test_data / 255   # Normalize pixel values to range 0–1 instead of 0–255 for faster and more effective training"
   ]
  },
  {
   "cell_type": "code",
   "execution_count": 21,
   "id": "5d8ca138",
   "metadata": {},
   "outputs": [],
   "source": [
    "# Build a Sequential neural network model\n",
    "model = tf.keras.Sequential([\n",
    "    # Flatten: converts each 28x28 image into a 1D vector of 784 values\n",
    "    tf.keras.layers.Flatten(input_shape=(28, 28)),\n",
    "    \n",
    "     # Dense layer with 128 neurons, using ReLU activation for non-linearity\n",
    "    tf.keras.layers.Dense(128, activation=tf.nn.relu),\n",
    "    \n",
    "     # Softmax activation converts outputs to probability distribution\n",
    "    tf.keras.layers.Dense(10, activation=tf.nn.softmax)\n",
    "])\n",
    "\n",
    "# Compile the model\n",
    "model.compile(optimizer=tf.keras.optimizers.Adam(),  # optimizer: Adam — a method that helps the model learn faster\n",
    "              loss='sparse_categorical_crossentropy',  # loss:sparse categorical crossentropy — tells the model how wrong it is (for multi-class problems)\n",
    "              metrics=['accuracy'])   # metrics: accuracy — shows how often the model guesses correctly"
   ]
  },
  {
   "cell_type": "code",
   "execution_count": 22,
   "id": "b6a9ce92",
   "metadata": {},
   "outputs": [
    {
     "name": "stdout",
     "output_type": "stream",
     "text": [
      "Epoch 1/5\n",
      "\u001b[1m1875/1875\u001b[0m \u001b[32m━━━━━━━━━━━━━━━━━━━━\u001b[0m\u001b[37m\u001b[0m \u001b[1m8s\u001b[0m 4ms/step - accuracy: 0.9263 - loss: 0.2570\n",
      "Epoch 2/5\n",
      "\u001b[1m1875/1875\u001b[0m \u001b[32m━━━━━━━━━━━━━━━━━━━━\u001b[0m\u001b[37m\u001b[0m \u001b[1m7s\u001b[0m 4ms/step - accuracy: 0.9668 - loss: 0.1126\n",
      "Epoch 3/5\n",
      "\u001b[1m1875/1875\u001b[0m \u001b[32m━━━━━━━━━━━━━━━━━━━━\u001b[0m\u001b[37m\u001b[0m \u001b[1m7s\u001b[0m 4ms/step - accuracy: 0.9776 - loss: 0.0759\n",
      "Epoch 4/5\n",
      "\u001b[1m1875/1875\u001b[0m \u001b[32m━━━━━━━━━━━━━━━━━━━━\u001b[0m\u001b[37m\u001b[0m \u001b[1m7s\u001b[0m 4ms/step - accuracy: 0.9820 - loss: 0.0578\n",
      "Epoch 5/5\n",
      "\u001b[1m1875/1875\u001b[0m \u001b[32m━━━━━━━━━━━━━━━━━━━━\u001b[0m\u001b[37m\u001b[0m \u001b[1m7s\u001b[0m 4ms/step - accuracy: 0.9865 - loss: 0.0440\n"
     ]
    },
    {
     "data": {
      "text/plain": [
       "<keras.src.callbacks.history.History at 0x1f1c97455e0>"
      ]
     },
     "execution_count": 22,
     "metadata": {},
     "output_type": "execute_result"
    }
   ],
   "source": [
    "# Train the model for 5 passes (epochs) through the training data\n",
    "model.fit(training_data, training_labels, epochs=5)"
   ]
  },
  {
   "cell_type": "code",
   "execution_count": 10,
   "id": "b27e96b4",
   "metadata": {},
   "outputs": [
    {
     "name": "stdout",
     "output_type": "stream",
     "text": [
      "\u001b[1m313/313\u001b[0m \u001b[32m━━━━━━━━━━━━━━━━━━━━\u001b[0m\u001b[37m\u001b[0m \u001b[1m1s\u001b[0m 3ms/step - accuracy: 0.9765 - loss: 0.0777\n"
     ]
    },
    {
     "data": {
      "text/plain": [
       "[0.07772833853960037, 0.9764999747276306]"
      ]
     },
     "execution_count": 10,
     "metadata": {},
     "output_type": "execute_result"
    }
   ],
   "source": [
    "# Evaluate the model's performance on the test data and return loss and accuracy\n",
    "model.evaluate(test_data, test_labels)\n"
   ]
  },
  {
   "cell_type": "code",
   "execution_count": 19,
   "id": "aaca8162",
   "metadata": {},
   "outputs": [
    {
     "name": "stdout",
     "output_type": "stream",
     "text": [
      "\u001b[1m313/313\u001b[0m \u001b[32m━━━━━━━━━━━━━━━━━━━━\u001b[0m\u001b[37m\u001b[0m \u001b[1m1s\u001b[0m 3ms/step\n",
      "9\n",
      "[0.0609097  0.1681729  0.10155641 0.083211   0.03981559 0.05266481\n",
      " 0.04609871 0.15471002 0.12298968 0.16987115]\n"
     ]
    }
   ],
   "source": [
    "# Use the trained model to make predictions on the test data\n",
    "predictions = model.predict(test_data)\n",
    "np.set_printoptions(suppress=True)\n",
    "print(test_labels[7])\n",
    "print(predictions[7])"
   ]
  },
  {
   "cell_type": "code",
   "execution_count": 17,
   "id": "5d3116c0",
   "metadata": {},
   "outputs": [
    {
     "data": {
      "image/png": "[encoded data removed]",
      "text/plain": [
       "<Figure size 640x480 with 1 Axes>"
      ]
     },
     "metadata": {},
     "output_type": "display_data"
    }
   ],
   "source": [
    "import matplotlib.pyplot as plt\n",
    "\n",
    "# Pick an index to view\n",
    "index = 89\n",
    "\n",
    "# Show the image\n",
    "plt.imshow(test_data[index], cmap='gray')\n",
    "plt.title(f\"Actual: {test_labels[index]}, Predicted: {np.argmax(predictions[index])}\")\n",
    "plt.axis('off')\n",
    "plt.show()"
   ]
  },
  {
   "cell_type": "code",
   "execution_count": null,
   "id": "77101a45",
   "metadata": {},
   "outputs": [],
   "source": []
  }
 ],
 "metadata": {
  "kernelspec": {
   "display_name": "Python (ML Course)",
   "language": "python",
   "name": "mlcourse"
  },
  "language_info": {
   "codemirror_mode": {
    "name": "ipython",
    "version": 3
   },
   "file_extension": ".py",
   "mimetype": "text/x-python",
   "name": "python",
   "nbconvert_exporter": "python",
   "pygments_lexer": "ipython3",
   "version": "3.12.1"
  }
 },
 "nbformat": 4,
 "nbformat_minor": 5
}
